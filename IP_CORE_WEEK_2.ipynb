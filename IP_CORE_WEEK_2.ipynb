{
  "nbformat": 4,
  "nbformat_minor": 0,
  "metadata": {
    "colab": {
      "name": "IP CORE WEEK 2",
      "provenance": [],
      "collapsed_sections": [],
      "include_colab_link": true
    },
    "kernelspec": {
      "name": "python3",
      "display_name": "Python 3"
    }
  },
  "cells": [
    {
      "cell_type": "markdown",
      "metadata": {
        "id": "view-in-github",
        "colab_type": "text"
      },
      "source": [
        "<a href=\"https://colab.research.google.com/github/ann-macharia/IP-WEEK-TWO/blob/master/IP_CORE_WEEK_2.ipynb\" target=\"_parent\"><img src=\"https://colab.research.google.com/assets/colab-badge.svg\" alt=\"Open In Colab\"/></a>"
      ]
    },
    {
      "cell_type": "markdown",
      "metadata": {
        "id": "8Z5S2xRdvnRx",
        "colab_type": "text"
      },
      "source": [
        "a) Specifying the Data Analytic Question\n"
      ]
    },
    {
      "cell_type": "markdown",
      "metadata": {
        "id": "X7D9QtARwNMp",
        "colab_type": "text"
      },
      "source": [
        "which individuals are most likely to have or use a bank account.\n"
      ]
    },
    {
      "cell_type": "markdown",
      "metadata": {
        "id": "p8ojzWjNxxDP",
        "colab_type": "text"
      },
      "source": [
        "b)  Metric for Success\n"
      ]
    },
    {
      "cell_type": "markdown",
      "metadata": {
        "id": "xX02FF4qx0zZ",
        "colab_type": "text"
      },
      "source": [
        "Project will be successful when we are able to accurately answer the business problem from clean data\n",
        " "
      ]
    },
    {
      "cell_type": "markdown",
      "metadata": {
        "id": "lsfe5D8DyR9-",
        "colab_type": "text"
      },
      "source": [
        "c) Understanding the context"
      ]
    },
    {
      "cell_type": "markdown",
      "metadata": {
        "id": "EzmcjjAUzvDy",
        "colab_type": "text"
      },
      "source": [
        "Data to be analysed is demographic, showing financial services \n",
        "used by individuals across East Africa, from 2016 to 2018.\n"
      ]
    },
    {
      "cell_type": "markdown",
      "metadata": {
        "id": "XWA6mBMvzxr4",
        "colab_type": "text"
      },
      "source": [
        "d)  Recording the Experimental Design"
      ]
    },
    {
      "cell_type": "markdown",
      "metadata": {
        "id": "DFi8MbDkPVuk",
        "colab_type": "text"
      },
      "source": [
        "e) Data Relevance"
      ]
    },
    {
      "cell_type": "markdown",
      "metadata": {
        "id": "5vEoKzR3RwO9",
        "colab_type": "text"
      },
      "source": [
        "Reading in the data\n"
      ]
    },
    {
      "cell_type": "code",
      "metadata": {
        "id": "a7nKrjUnR4Ao",
        "colab_type": "code",
        "colab": {}
      },
      "source": [
        "#importing libraries\n",
        "import pandas as pd\n",
        "import matplotlib.pyplot as plt\n",
        "import seaborn as sns\n",
        "import numpy as np\n"
      ],
      "execution_count": 0,
      "outputs": []
    },
    {
      "cell_type": "code",
      "metadata": {
        "id": "EYID47x4R9lq",
        "colab_type": "code",
        "colab": {}
      },
      "source": [
        "#Reading in the data\n",
        "#Dataset url = http://bit.ly/FinancialDataset\n",
        "df=pd.read_csv('http://bit.ly/FinancialDataset')\n"
      ],
      "execution_count": 0,
      "outputs": []
    },
    {
      "cell_type": "markdown",
      "metadata": {
        "id": "XWyDCuiLTy0N",
        "colab_type": "text"
      },
      "source": [
        "Checking our data"
      ]
    },
    {
      "cell_type": "code",
      "metadata": {
        "id": "_Sz9TGjiUXmd",
        "colab_type": "code",
        "outputId": "755ec33d-2e6f-456c-d52b-432e98331697",
        "colab": {
          "base_uri": "https://localhost:8080/",
          "height": 35
        }
      },
      "source": [
        "# Determining the no. of records in our dataset\n",
        "#\n",
        "print(df.shape)"
      ],
      "execution_count": 0,
      "outputs": [
        {
          "output_type": "stream",
          "text": [
            "(23524, 13)\n"
          ],
          "name": "stdout"
        }
      ]
    },
    {
      "cell_type": "code",
      "metadata": {
        "id": "ROdfULDEUnDi",
        "colab_type": "code",
        "outputId": "7877ac46-b026-46eb-ffe8-d065767fbe9e",
        "colab": {
          "base_uri": "https://localhost:8080/",
          "height": 374
        }
      },
      "source": [
        "# Previewing the top of our dataset\n",
        "#\n",
        "df.head()"
      ],
      "execution_count": 0,
      "outputs": [
        {
          "output_type": "execute_result",
          "data": {
            "text/html": [
              "<div>\n",
              "<style scoped>\n",
              "    .dataframe tbody tr th:only-of-type {\n",
              "        vertical-align: middle;\n",
              "    }\n",
              "\n",
              "    .dataframe tbody tr th {\n",
              "        vertical-align: top;\n",
              "    }\n",
              "\n",
              "    .dataframe thead th {\n",
              "        text-align: right;\n",
              "    }\n",
              "</style>\n",
              "<table border=\"1\" class=\"dataframe\">\n",
              "  <thead>\n",
              "    <tr style=\"text-align: right;\">\n",
              "      <th></th>\n",
              "      <th>country</th>\n",
              "      <th>year</th>\n",
              "      <th>uniqueid</th>\n",
              "      <th>Has a Bank account</th>\n",
              "      <th>Type of Location</th>\n",
              "      <th>Cell Phone Access</th>\n",
              "      <th>household_size</th>\n",
              "      <th>Respondent Age</th>\n",
              "      <th>gender_of_respondent</th>\n",
              "      <th>The relathip with head</th>\n",
              "      <th>marital_status</th>\n",
              "      <th>Level of Educuation</th>\n",
              "      <th>Type of Job</th>\n",
              "    </tr>\n",
              "  </thead>\n",
              "  <tbody>\n",
              "    <tr>\n",
              "      <th>0</th>\n",
              "      <td>Kenya</td>\n",
              "      <td>2018</td>\n",
              "      <td>uniqueid_1</td>\n",
              "      <td>Yes</td>\n",
              "      <td>Rural</td>\n",
              "      <td>Yes</td>\n",
              "      <td>3.0</td>\n",
              "      <td>24.0</td>\n",
              "      <td>Female</td>\n",
              "      <td>Spouse</td>\n",
              "      <td>Married/Living together</td>\n",
              "      <td>Secondary education</td>\n",
              "      <td>Self employed</td>\n",
              "    </tr>\n",
              "    <tr>\n",
              "      <th>1</th>\n",
              "      <td>Kenya</td>\n",
              "      <td>2018</td>\n",
              "      <td>uniqueid_2</td>\n",
              "      <td>No</td>\n",
              "      <td>Rural</td>\n",
              "      <td>No</td>\n",
              "      <td>5.0</td>\n",
              "      <td>70.0</td>\n",
              "      <td>Female</td>\n",
              "      <td>Head of Household</td>\n",
              "      <td>Widowed</td>\n",
              "      <td>No formal education</td>\n",
              "      <td>Government Dependent</td>\n",
              "    </tr>\n",
              "    <tr>\n",
              "      <th>2</th>\n",
              "      <td>Kenya</td>\n",
              "      <td>2018</td>\n",
              "      <td>uniqueid_3</td>\n",
              "      <td>Yes</td>\n",
              "      <td>Urban</td>\n",
              "      <td>Yes</td>\n",
              "      <td>5.0</td>\n",
              "      <td>26.0</td>\n",
              "      <td>Male</td>\n",
              "      <td>Other relative</td>\n",
              "      <td>Single/Never Married</td>\n",
              "      <td>Vocational/Specialised training</td>\n",
              "      <td>Self employed</td>\n",
              "    </tr>\n",
              "    <tr>\n",
              "      <th>3</th>\n",
              "      <td>Kenya</td>\n",
              "      <td>2018</td>\n",
              "      <td>uniqueid_4</td>\n",
              "      <td>No</td>\n",
              "      <td>Rural</td>\n",
              "      <td>Yes</td>\n",
              "      <td>5.0</td>\n",
              "      <td>34.0</td>\n",
              "      <td>Female</td>\n",
              "      <td>Head of Household</td>\n",
              "      <td>Married/Living together</td>\n",
              "      <td>Primary education</td>\n",
              "      <td>Formally employed Private</td>\n",
              "    </tr>\n",
              "    <tr>\n",
              "      <th>4</th>\n",
              "      <td>Kenya</td>\n",
              "      <td>2018</td>\n",
              "      <td>uniqueid_5</td>\n",
              "      <td>No</td>\n",
              "      <td>Urban</td>\n",
              "      <td>No</td>\n",
              "      <td>8.0</td>\n",
              "      <td>26.0</td>\n",
              "      <td>Male</td>\n",
              "      <td>Child</td>\n",
              "      <td>Single/Never Married</td>\n",
              "      <td>Primary education</td>\n",
              "      <td>Informally employed</td>\n",
              "    </tr>\n",
              "  </tbody>\n",
              "</table>\n",
              "</div>"
            ],
            "text/plain": [
              "  country  year  ...              Level of Educuation                Type of Job\n",
              "0   Kenya  2018  ...              Secondary education              Self employed\n",
              "1   Kenya  2018  ...              No formal education       Government Dependent\n",
              "2   Kenya  2018  ...  Vocational/Specialised training              Self employed\n",
              "3   Kenya  2018  ...                Primary education  Formally employed Private\n",
              "4   Kenya  2018  ...                Primary education        Informally employed\n",
              "\n",
              "[5 rows x 13 columns]"
            ]
          },
          "metadata": {
            "tags": []
          },
          "execution_count": 4
        }
      ]
    },
    {
      "cell_type": "code",
      "metadata": {
        "id": "TiwCgIYUUwKg",
        "colab_type": "code",
        "outputId": "713761b3-4aa3-4af1-b52d-9d8274590f12",
        "colab": {
          "base_uri": "https://localhost:8080/",
          "height": 356
        }
      },
      "source": [
        "# Previewing the bottom of our dataset\n",
        "# \n",
        "df.tail()"
      ],
      "execution_count": 0,
      "outputs": [
        {
          "output_type": "execute_result",
          "data": {
            "text/html": [
              "<div>\n",
              "<style scoped>\n",
              "    .dataframe tbody tr th:only-of-type {\n",
              "        vertical-align: middle;\n",
              "    }\n",
              "\n",
              "    .dataframe tbody tr th {\n",
              "        vertical-align: top;\n",
              "    }\n",
              "\n",
              "    .dataframe thead th {\n",
              "        text-align: right;\n",
              "    }\n",
              "</style>\n",
              "<table border=\"1\" class=\"dataframe\">\n",
              "  <thead>\n",
              "    <tr style=\"text-align: right;\">\n",
              "      <th></th>\n",
              "      <th>country</th>\n",
              "      <th>year</th>\n",
              "      <th>uniqueid</th>\n",
              "      <th>Has a Bank account</th>\n",
              "      <th>Type of Location</th>\n",
              "      <th>Cell Phone Access</th>\n",
              "      <th>household_size</th>\n",
              "      <th>Respondent Age</th>\n",
              "      <th>gender_of_respondent</th>\n",
              "      <th>The relathip with head</th>\n",
              "      <th>marital_status</th>\n",
              "      <th>Level of Educuation</th>\n",
              "      <th>Type of Job</th>\n",
              "    </tr>\n",
              "  </thead>\n",
              "  <tbody>\n",
              "    <tr>\n",
              "      <th>23519</th>\n",
              "      <td>Uganda</td>\n",
              "      <td>2018</td>\n",
              "      <td>uniqueid_2113</td>\n",
              "      <td>No</td>\n",
              "      <td>Rural</td>\n",
              "      <td>Yes</td>\n",
              "      <td>4.0</td>\n",
              "      <td>48.0</td>\n",
              "      <td>Female</td>\n",
              "      <td>Head of Household</td>\n",
              "      <td>Divorced/Seperated</td>\n",
              "      <td>No formal education</td>\n",
              "      <td>Other Income</td>\n",
              "    </tr>\n",
              "    <tr>\n",
              "      <th>23520</th>\n",
              "      <td>Uganda</td>\n",
              "      <td>2018</td>\n",
              "      <td>uniqueid_2114</td>\n",
              "      <td>No</td>\n",
              "      <td>Rural</td>\n",
              "      <td>Yes</td>\n",
              "      <td>2.0</td>\n",
              "      <td>27.0</td>\n",
              "      <td>Female</td>\n",
              "      <td>Head of Household</td>\n",
              "      <td>Single/Never Married</td>\n",
              "      <td>Secondary education</td>\n",
              "      <td>Other Income</td>\n",
              "    </tr>\n",
              "    <tr>\n",
              "      <th>23521</th>\n",
              "      <td>Uganda</td>\n",
              "      <td>2018</td>\n",
              "      <td>uniqueid_2115</td>\n",
              "      <td>No</td>\n",
              "      <td>Rural</td>\n",
              "      <td>Yes</td>\n",
              "      <td>5.0</td>\n",
              "      <td>27.0</td>\n",
              "      <td>Female</td>\n",
              "      <td>Parent</td>\n",
              "      <td>Widowed</td>\n",
              "      <td>Primary education</td>\n",
              "      <td>Other Income</td>\n",
              "    </tr>\n",
              "    <tr>\n",
              "      <th>23522</th>\n",
              "      <td>Uganda</td>\n",
              "      <td>2018</td>\n",
              "      <td>uniqueid_2116</td>\n",
              "      <td>No</td>\n",
              "      <td>Urban</td>\n",
              "      <td>Yes</td>\n",
              "      <td>7.0</td>\n",
              "      <td>30.0</td>\n",
              "      <td>Female</td>\n",
              "      <td>Parent</td>\n",
              "      <td>Divorced/Seperated</td>\n",
              "      <td>Secondary education</td>\n",
              "      <td>Self employed</td>\n",
              "    </tr>\n",
              "    <tr>\n",
              "      <th>23523</th>\n",
              "      <td>Uganda</td>\n",
              "      <td>2018</td>\n",
              "      <td>uniqueid_2117</td>\n",
              "      <td>No</td>\n",
              "      <td>Rural</td>\n",
              "      <td>Yes</td>\n",
              "      <td>10.0</td>\n",
              "      <td>20.0</td>\n",
              "      <td>Male</td>\n",
              "      <td>Child</td>\n",
              "      <td>Single/Never Married</td>\n",
              "      <td>Secondary education</td>\n",
              "      <td>No Income</td>\n",
              "    </tr>\n",
              "  </tbody>\n",
              "</table>\n",
              "</div>"
            ],
            "text/plain": [
              "      country  year  ...  Level of Educuation    Type of Job\n",
              "23519  Uganda  2018  ...  No formal education   Other Income\n",
              "23520  Uganda  2018  ...  Secondary education   Other Income\n",
              "23521  Uganda  2018  ...    Primary education   Other Income\n",
              "23522  Uganda  2018  ...  Secondary education  Self employed\n",
              "23523  Uganda  2018  ...  Secondary education      No Income\n",
              "\n",
              "[5 rows x 13 columns]"
            ]
          },
          "metadata": {
            "tags": []
          },
          "execution_count": 5
        }
      ]
    },
    {
      "cell_type": "code",
      "metadata": {
        "id": "LFIb78WFU8mm",
        "colab_type": "code",
        "outputId": "7a3de4db-a4bb-4c90-890d-af138f65df73",
        "colab": {
          "base_uri": "https://localhost:8080/",
          "height": 272
        }
      },
      "source": [
        "# Checking whether each column has an appropriate datatype\n",
        "#\n",
        "df.dtypes\n",
        "#year data type needs to be corrected.\n",
        "#import datetime library\n",
        "from datetime import datetime\n",
        "#first convert the date time into string \n",
        "df['year'] = df['year'].astype('str')\n",
        "df['year'] =  pd.to_datetime(df['year'],format='%Y-%m-%d')\n",
        "\n",
        "print(df.dtypes)\n",
        "                      "
      ],
      "execution_count": 0,
      "outputs": [
        {
          "output_type": "stream",
          "text": [
            "country                           object\n",
            "year                      datetime64[ns]\n",
            "uniqueid                          object\n",
            "Has a Bank account                object\n",
            "Type of Location                  object\n",
            "Cell Phone Access                 object\n",
            "household_size                   float64\n",
            "Respondent Age                   float64\n",
            "gender_of_respondent              object\n",
            "The relathip with head            object\n",
            "marital_status                    object\n",
            "Level of Educuation               object\n",
            "Type of Job                       object\n",
            "dtype: object\n"
          ],
          "name": "stdout"
        }
      ]
    },
    {
      "cell_type": "markdown",
      "metadata": {
        "id": "102sq2wi6hy2",
        "colab_type": "text"
      },
      "source": [
        "External data source validation"
      ]
    },
    {
      "cell_type": "markdown",
      "metadata": {
        "id": "VvAU1lq76tTB",
        "colab_type": "text"
      },
      "source": [
        "validation"
      ]
    },
    {
      "cell_type": "markdown",
      "metadata": {
        "id": "s68KUHfE6whK",
        "colab_type": "text"
      },
      "source": [
        "Tidying data set"
      ]
    },
    {
      "cell_type": "code",
      "metadata": {
        "id": "uiAU7C8S62Ie",
        "colab_type": "code",
        "outputId": "f0d3fb3b-9615-4fa8-d57b-b8c3bef6012d",
        "colab": {
          "base_uri": "https://localhost:8080/",
          "height": 298
        }
      },
      "source": [
        "# Checking for Outliers in household_size\n",
        "#\n",
        "#we first visualize the outliers for the float and int variables.\n",
        "print(sns.boxplot(x =df['household_size']))\n",
        "# household_size has outliers"
      ],
      "execution_count": 0,
      "outputs": [
        {
          "output_type": "stream",
          "text": [
            "AxesSubplot(0.125,0.125;0.775x0.755)\n"
          ],
          "name": "stdout"
        },
        {
          "output_type": "display_data",
          "data": {
            "image/png": "[encoded data removed]",
            "text/plain": [
              "<Figure size 432x288 with 1 Axes>"
            ]
          },
          "metadata": {
            "tags": []
          }
        }
      ]
    },
    {
      "cell_type": "code",
      "metadata": {
        "id": "esROX6Zl7Txo",
        "colab_type": "code",
        "outputId": "dd03ed25-cd1b-4532-af2f-8087450a0af1",
        "colab": {
          "base_uri": "https://localhost:8080/",
          "height": 297
        }
      },
      "source": [
        "# Checking for Outliers in Respondent Age\n",
        "#\n",
        "print(sns.boxplot(x =df['Respondent Age']))\n",
        "#Respondents age has outliers"
      ],
      "execution_count": 0,
      "outputs": [
        {
          "output_type": "stream",
          "text": [
            "AxesSubplot(0.125,0.125;0.775x0.755)\n"
          ],
          "name": "stdout"
        },
        {
          "output_type": "display_data",
          "data": {
            "image/png": "[encoded data removed]",
            "text/plain": [
              "<Figure size 432x288 with 1 Axes>"
            ]
          },
          "metadata": {
            "tags": []
          }
        }
      ]
    },
    {
      "cell_type": "code",
      "metadata": {
        "id": "ylzrDoMGBVG8",
        "colab_type": "code",
        "outputId": "dfc90669-da4a-46c7-8063-4d383967a622",
        "colab": {
          "base_uri": "https://localhost:8080/",
          "height": 326
        }
      },
      "source": [
        "#removing the outlliers using IQR.\n",
        "Q1 = df.quantile(0.25)\n",
        "Q3 = df.quantile(0.75)\n",
        "IQR = Q3 - Q1\n",
        "\n",
        "print(IQR)\n",
        "df['year'] = df['year'].astype('str')\n",
        "print((df < (Q1 - 1.5 * IQR)) |(df > (Q3 + 1.5 * IQR)))\n",
        "df1 = df[~((df < (Q1 - 1.5 * IQR)) |(df > (Q3 + 1.5 * IQR))).any(axis=1)]\n",
        "# data is free from outliers."
      ],
      "execution_count": 0,
      "outputs": [
        {
          "output_type": "stream",
          "text": [
            "household_size     3.0\n",
            "Respondent Age    23.0\n",
            "dtype: float64\n",
            "       Cell Phone Access  Has a Bank account  ...  uniqueid   year\n",
            "0                  False               False  ...     False  False\n",
            "1                  False               False  ...     False  False\n",
            "2                  False               False  ...     False  False\n",
            "3                  False               False  ...     False  False\n",
            "4                  False               False  ...     False  False\n",
            "...                  ...                 ...  ...       ...    ...\n",
            "23519              False               False  ...     False  False\n",
            "23520              False               False  ...     False  False\n",
            "23521              False               False  ...     False  False\n",
            "23522              False               False  ...     False  False\n",
            "23523              False               False  ...     False  False\n",
            "\n",
            "[23524 rows x 13 columns]\n"
          ],
          "name": "stdout"
        }
      ]
    },
    {
      "cell_type": "markdown",
      "metadata": {
        "id": "9ByOBRlox5v4",
        "colab_type": "text"
      },
      "source": [
        "checking for anomalies"
      ]
    },
    {
      "cell_type": "code",
      "metadata": {
        "id": "kugVHZlSx9oe",
        "colab_type": "code",
        "outputId": "260fb40c-0ec1-47c9-e2d1-36b4c2cd47b1",
        "colab": {
          "base_uri": "https://localhost:8080/",
          "height": 272
        }
      },
      "source": [
        "#checking for missing data\n",
        "#df1.isnull().sum()\n",
        "df2=df1.dropna()\n",
        "df2.isnull().sum()"
      ],
      "execution_count": 0,
      "outputs": [
        {
          "output_type": "execute_result",
          "data": {
            "text/plain": [
              "country                   0\n",
              "year                      0\n",
              "uniqueid                  0\n",
              "Has a Bank account        0\n",
              "Type of Location          0\n",
              "Cell Phone Access         0\n",
              "household_size            0\n",
              "Respondent Age            0\n",
              "gender_of_respondent      0\n",
              "The relathip with head    0\n",
              "marital_status            0\n",
              "Level of Educuation       0\n",
              "Type of Job               0\n",
              "dtype: int64"
            ]
          },
          "metadata": {
            "tags": []
          },
          "execution_count": 10
        }
      ]
    },
    {
      "cell_type": "code",
      "metadata": {
        "id": "DRnOqg6eyFwj",
        "colab_type": "code",
        "outputId": "d16a7c68-7850-42a4-d99d-cfa22cc63a9f",
        "colab": {
          "base_uri": "https://localhost:8080/",
          "height": 35
        }
      },
      "source": [
        "#checking for duplicates.\n",
        "df2.duplicated().sum()\n",
        "# data has no duplicates"
      ],
      "execution_count": 0,
      "outputs": [
        {
          "output_type": "execute_result",
          "data": {
            "text/plain": [
              "0"
            ]
          },
          "metadata": {
            "tags": []
          },
          "execution_count": 11
        }
      ]
    },
    {
      "cell_type": "markdown",
      "metadata": {
        "id": "wF7tSOqE0qXn",
        "colab_type": "text"
      },
      "source": [
        "Exploratory analysis"
      ]
    },
    {
      "cell_type": "code",
      "metadata": {
        "id": "pCXXjsKh091N",
        "colab_type": "code",
        "outputId": "d2751a21-2fdb-47df-b382-99b94e879883",
        "colab": {
          "base_uri": "https://localhost:8080/",
          "height": 374
        }
      },
      "source": [
        "df2.head()"
      ],
      "execution_count": 0,
      "outputs": [
        {
          "output_type": "execute_result",
          "data": {
            "text/html": [
              "<div>\n",
              "<style scoped>\n",
              "    .dataframe tbody tr th:only-of-type {\n",
              "        vertical-align: middle;\n",
              "    }\n",
              "\n",
              "    .dataframe tbody tr th {\n",
              "        vertical-align: top;\n",
              "    }\n",
              "\n",
              "    .dataframe thead th {\n",
              "        text-align: right;\n",
              "    }\n",
              "</style>\n",
              "<table border=\"1\" class=\"dataframe\">\n",
              "  <thead>\n",
              "    <tr style=\"text-align: right;\">\n",
              "      <th></th>\n",
              "      <th>country</th>\n",
              "      <th>year</th>\n",
              "      <th>uniqueid</th>\n",
              "      <th>Has a Bank account</th>\n",
              "      <th>Type of Location</th>\n",
              "      <th>Cell Phone Access</th>\n",
              "      <th>household_size</th>\n",
              "      <th>Respondent Age</th>\n",
              "      <th>gender_of_respondent</th>\n",
              "      <th>The relathip with head</th>\n",
              "      <th>marital_status</th>\n",
              "      <th>Level of Educuation</th>\n",
              "      <th>Type of Job</th>\n",
              "    </tr>\n",
              "  </thead>\n",
              "  <tbody>\n",
              "    <tr>\n",
              "      <th>0</th>\n",
              "      <td>Kenya</td>\n",
              "      <td>2018-01-01</td>\n",
              "      <td>uniqueid_1</td>\n",
              "      <td>Yes</td>\n",
              "      <td>Rural</td>\n",
              "      <td>Yes</td>\n",
              "      <td>3.0</td>\n",
              "      <td>24.0</td>\n",
              "      <td>Female</td>\n",
              "      <td>Spouse</td>\n",
              "      <td>Married/Living together</td>\n",
              "      <td>Secondary education</td>\n",
              "      <td>Self employed</td>\n",
              "    </tr>\n",
              "    <tr>\n",
              "      <th>1</th>\n",
              "      <td>Kenya</td>\n",
              "      <td>2018-01-01</td>\n",
              "      <td>uniqueid_2</td>\n",
              "      <td>No</td>\n",
              "      <td>Rural</td>\n",
              "      <td>No</td>\n",
              "      <td>5.0</td>\n",
              "      <td>70.0</td>\n",
              "      <td>Female</td>\n",
              "      <td>Head of Household</td>\n",
              "      <td>Widowed</td>\n",
              "      <td>No formal education</td>\n",
              "      <td>Government Dependent</td>\n",
              "    </tr>\n",
              "    <tr>\n",
              "      <th>2</th>\n",
              "      <td>Kenya</td>\n",
              "      <td>2018-01-01</td>\n",
              "      <td>uniqueid_3</td>\n",
              "      <td>Yes</td>\n",
              "      <td>Urban</td>\n",
              "      <td>Yes</td>\n",
              "      <td>5.0</td>\n",
              "      <td>26.0</td>\n",
              "      <td>Male</td>\n",
              "      <td>Other relative</td>\n",
              "      <td>Single/Never Married</td>\n",
              "      <td>Vocational/Specialised training</td>\n",
              "      <td>Self employed</td>\n",
              "    </tr>\n",
              "    <tr>\n",
              "      <th>3</th>\n",
              "      <td>Kenya</td>\n",
              "      <td>2018-01-01</td>\n",
              "      <td>uniqueid_4</td>\n",
              "      <td>No</td>\n",
              "      <td>Rural</td>\n",
              "      <td>Yes</td>\n",
              "      <td>5.0</td>\n",
              "      <td>34.0</td>\n",
              "      <td>Female</td>\n",
              "      <td>Head of Household</td>\n",
              "      <td>Married/Living together</td>\n",
              "      <td>Primary education</td>\n",
              "      <td>Formally employed Private</td>\n",
              "    </tr>\n",
              "    <tr>\n",
              "      <th>4</th>\n",
              "      <td>Kenya</td>\n",
              "      <td>2018-01-01</td>\n",
              "      <td>uniqueid_5</td>\n",
              "      <td>No</td>\n",
              "      <td>Urban</td>\n",
              "      <td>No</td>\n",
              "      <td>8.0</td>\n",
              "      <td>26.0</td>\n",
              "      <td>Male</td>\n",
              "      <td>Child</td>\n",
              "      <td>Single/Never Married</td>\n",
              "      <td>Primary education</td>\n",
              "      <td>Informally employed</td>\n",
              "    </tr>\n",
              "  </tbody>\n",
              "</table>\n",
              "</div>"
            ],
            "text/plain": [
              "  country  ...                Type of Job\n",
              "0   Kenya  ...              Self employed\n",
              "1   Kenya  ...       Government Dependent\n",
              "2   Kenya  ...              Self employed\n",
              "3   Kenya  ...  Formally employed Private\n",
              "4   Kenya  ...        Informally employed\n",
              "\n",
              "[5 rows x 13 columns]"
            ]
          },
          "metadata": {
            "tags": []
          },
          "execution_count": 12
        }
      ]
    },
    {
      "cell_type": "code",
      "metadata": {
        "id": "hnC24dOm50wn",
        "colab_type": "code",
        "outputId": "4802657c-fcfa-4693-fdd1-68aa71c64c00",
        "colab": {
          "base_uri": "https://localhost:8080/",
          "height": 288
        }
      },
      "source": [
        "#obtain data description.\n",
        "df2.describe()"
      ],
      "execution_count": 0,
      "outputs": [
        {
          "output_type": "execute_result",
          "data": {
            "text/html": [
              "<div>\n",
              "<style scoped>\n",
              "    .dataframe tbody tr th:only-of-type {\n",
              "        vertical-align: middle;\n",
              "    }\n",
              "\n",
              "    .dataframe tbody tr th {\n",
              "        vertical-align: top;\n",
              "    }\n",
              "\n",
              "    .dataframe thead th {\n",
              "        text-align: right;\n",
              "    }\n",
              "</style>\n",
              "<table border=\"1\" class=\"dataframe\">\n",
              "  <thead>\n",
              "    <tr style=\"text-align: right;\">\n",
              "      <th></th>\n",
              "      <th>household_size</th>\n",
              "      <th>Respondent Age</th>\n",
              "    </tr>\n",
              "  </thead>\n",
              "  <tbody>\n",
              "    <tr>\n",
              "      <th>count</th>\n",
              "      <td>22728.000000</td>\n",
              "      <td>22728.000000</td>\n",
              "    </tr>\n",
              "    <tr>\n",
              "      <th>mean</th>\n",
              "      <td>3.579945</td>\n",
              "      <td>38.346445</td>\n",
              "    </tr>\n",
              "    <tr>\n",
              "      <th>std</th>\n",
              "      <td>2.080472</td>\n",
              "      <td>15.806083</td>\n",
              "    </tr>\n",
              "    <tr>\n",
              "      <th>min</th>\n",
              "      <td>0.000000</td>\n",
              "      <td>16.000000</td>\n",
              "    </tr>\n",
              "    <tr>\n",
              "      <th>25%</th>\n",
              "      <td>2.000000</td>\n",
              "      <td>26.000000</td>\n",
              "    </tr>\n",
              "    <tr>\n",
              "      <th>50%</th>\n",
              "      <td>3.000000</td>\n",
              "      <td>35.000000</td>\n",
              "    </tr>\n",
              "    <tr>\n",
              "      <th>75%</th>\n",
              "      <td>5.000000</td>\n",
              "      <td>48.000000</td>\n",
              "    </tr>\n",
              "    <tr>\n",
              "      <th>max</th>\n",
              "      <td>9.000000</td>\n",
              "      <td>83.000000</td>\n",
              "    </tr>\n",
              "  </tbody>\n",
              "</table>\n",
              "</div>"
            ],
            "text/plain": [
              "       household_size  Respondent Age\n",
              "count    22728.000000    22728.000000\n",
              "mean         3.579945       38.346445\n",
              "std          2.080472       15.806083\n",
              "min          0.000000       16.000000\n",
              "25%          2.000000       26.000000\n",
              "50%          3.000000       35.000000\n",
              "75%          5.000000       48.000000\n",
              "max          9.000000       83.000000"
            ]
          },
          "metadata": {
            "tags": []
          },
          "execution_count": 13
        }
      ]
    },
    {
      "cell_type": "code",
      "metadata": {
        "id": "OGqJ2h_31CE_",
        "colab_type": "code",
        "outputId": "a6a7a577-7c39-47d3-8c55-ea494bbf562f",
        "colab": {
          "base_uri": "https://localhost:8080/",
          "height": 307
        }
      },
      "source": [
        "#visualisation of bank account ownership count.\n",
        "df2['Has a Bank account'].value_counts().plot.bar(title='Freq dist of Bank account ownership', )\n",
        "#From the numbers it is clear we are yet to achieve financial inclusion."
      ],
      "execution_count": 0,
      "outputs": [
        {
          "output_type": "execute_result",
          "data": {
            "text/plain": [
              "<matplotlib.axes._subplots.AxesSubplot at 0x7f3bd37fac50>"
            ]
          },
          "metadata": {
            "tags": []
          },
          "execution_count": 14
        },
        {
          "output_type": "display_data",
          "data": {
            "image/png": "[encoded data removed]",
            "text/plain": [
              "<Figure size 432x288 with 1 Axes>"
            ]
          },
          "metadata": {
            "tags": []
          }
        }
      ]
    },
    {
      "cell_type": "code",
      "metadata": {
        "id": "DM6iqrSY9sgy",
        "colab_type": "code",
        "colab": {}
      },
      "source": [
        ""
      ],
      "execution_count": 0,
      "outputs": []
    },
    {
      "cell_type": "code",
      "metadata": {
        "id": "nOv2e56O5Itd",
        "colab_type": "code",
        "outputId": "08f29a39-748f-4f65-99c5-ebeb22861462",
        "colab": {
          "base_uri": "https://localhost:8080/",
          "height": 326
        }
      },
      "source": [
        "#a visualisation to see gender distibution of those with phones.\n",
        "#a new dataframe is created where df2['Has a Bank account'] == 'Yes'\n",
        "a=df2[df2['Has a Bank account'] == 'Yes']\n",
        "a['gender_of_respondent'].value_counts().plot.bar(title='gender distribution of those with phones', color='green')\n",
        "# out of those with phones males are more than females."
      ],
      "execution_count": 0,
      "outputs": [
        {
          "output_type": "execute_result",
          "data": {
            "text/plain": [
              "<matplotlib.axes._subplots.AxesSubplot at 0x7f3bd1f4ddd8>"
            ]
          },
          "metadata": {
            "tags": []
          },
          "execution_count": 15
        },
        {
          "output_type": "display_data",
          "data": {
            "image/png": "[encoded data removed]",
            "text/plain": [
              "<Figure size 432x288 with 1 Axes>"
            ]
          },
          "metadata": {
            "tags": []
          }
        }
      ]
    },
    {
      "cell_type": "code",
      "metadata": {
        "id": "8gxpy0CkNPBd",
        "colab_type": "code",
        "outputId": "1082d071-101d-4681-c061-133e0e83ba1c",
        "colab": {
          "base_uri": "https://localhost:8080/",
          "height": 365
        }
      },
      "source": [
        "#A visualisation to check Bank account ownership in the country.\n",
        "w=df2.groupby (['country','Has a Bank account'])['Has a Bank account'].count()\n",
        "w.plot(kind='bar', color='gold')"
      ],
      "execution_count": 0,
      "outputs": [
        {
          "output_type": "execute_result",
          "data": {
            "text/plain": [
              "<matplotlib.axes._subplots.AxesSubplot at 0x7f3bd1fb30f0>"
            ]
          },
          "metadata": {
            "tags": []
          },
          "execution_count": 16
        },
        {
          "output_type": "display_data",
          "data": {
            "image/png": "[encoded data removed]",
            "text/plain": [
              "<Figure size 432x288 with 1 Axes>"
            ]
          },
          "metadata": {
            "tags": []
          }
        }
      ]
    },
    {
      "cell_type": "code",
      "metadata": {
        "id": "8ZkSQAujMBWa",
        "colab_type": "code",
        "outputId": "c8df4070-89e4-43dd-a06c-834461004f39",
        "colab": {
          "base_uri": "https://localhost:8080/",
          "height": 385
        }
      },
      "source": [
        "#A visualisation to check Bank account onwnership in the countries given gender.\n",
        "w=a.groupby (['country','gender_of_respondent'])['Has a Bank account'].count()\n",
        "w.plot(kind='bar', color='pink')\n",
        "#In all countries more males have a bank account except in Uganda, where more feemales have\n",
        "#bank accounts compared to males"
      ],
      "execution_count": 0,
      "outputs": [
        {
          "output_type": "execute_result",
          "data": {
            "text/plain": [
              "<matplotlib.axes._subplots.AxesSubplot at 0x7f3bd1ebba20>"
            ]
          },
          "metadata": {
            "tags": []
          },
          "execution_count": 17
        },
        {
          "output_type": "display_data",
          "data": {
            "image/png": "[encoded data removed]",
            "text/plain": [
              "<Figure size 432x288 with 1 Axes>"
            ]
          },
          "metadata": {
            "tags": []
          }
        }
      ]
    },
    {
      "cell_type": "code",
      "metadata": {
        "id": "3Gd42k2lUhVZ",
        "colab_type": "code",
        "outputId": "8eb66bf1-8028-4a53-9453-40957e428dc5",
        "colab": {
          "base_uri": "https://localhost:8080/",
          "height": 108
        }
      },
      "source": [
        "#checking for correlation of the numerical variables\n",
        "df2.corr()\n",
        "#there is very weak negative correlation between the variables"
      ],
      "execution_count": 0,
      "outputs": [
        {
          "output_type": "execute_result",
          "data": {
            "text/html": [
              "<div>\n",
              "<style scoped>\n",
              "    .dataframe tbody tr th:only-of-type {\n",
              "        vertical-align: middle;\n",
              "    }\n",
              "\n",
              "    .dataframe tbody tr th {\n",
              "        vertical-align: top;\n",
              "    }\n",
              "\n",
              "    .dataframe thead th {\n",
              "        text-align: right;\n",
              "    }\n",
              "</style>\n",
              "<table border=\"1\" class=\"dataframe\">\n",
              "  <thead>\n",
              "    <tr style=\"text-align: right;\">\n",
              "      <th></th>\n",
              "      <th>household_size</th>\n",
              "      <th>Respondent Age</th>\n",
              "    </tr>\n",
              "  </thead>\n",
              "  <tbody>\n",
              "    <tr>\n",
              "      <th>household_size</th>\n",
              "      <td>1.000000</td>\n",
              "      <td>-0.106259</td>\n",
              "    </tr>\n",
              "    <tr>\n",
              "      <th>Respondent Age</th>\n",
              "      <td>-0.106259</td>\n",
              "      <td>1.000000</td>\n",
              "    </tr>\n",
              "  </tbody>\n",
              "</table>\n",
              "</div>"
            ],
            "text/plain": [
              "                household_size  Respondent Age\n",
              "household_size        1.000000       -0.106259\n",
              "Respondent Age       -0.106259        1.000000"
            ]
          },
          "metadata": {
            "tags": []
          },
          "execution_count": 18
        }
      ]
    },
    {
      "cell_type": "code",
      "metadata": {
        "id": "usQeTlPqVkP7",
        "colab_type": "code",
        "outputId": "dda67a15-c549-4f19-d753-5522fa7d0978",
        "colab": {
          "base_uri": "https://localhost:8080/",
          "height": 336
        }
      },
      "source": [
        "#visualisation on phone access and owning a bank account.\n",
        "b=df2.groupby (['Cell Phone Access','Has a Bank account'])['Has a Bank account'].count()\n",
        "b.plot(kind='bar', color='red')\n",
        "#out of those with no cell phone access, very few have access to a bank account.\n",
        "#out of those with cell phone access, very many have no bank accounts.\n",
        "#this could be due to mobile banking services offerres,therefore finding no\n",
        "#need to have a bank account."
      ],
      "execution_count": 0,
      "outputs": [
        {
          "output_type": "execute_result",
          "data": {
            "text/plain": [
              "<matplotlib.axes._subplots.AxesSubplot at 0x7f3bd3852ef0>"
            ]
          },
          "metadata": {
            "tags": []
          },
          "execution_count": 19
        },
        {
          "output_type": "display_data",
          "data": {
            "image/png": "[encoded data removed]",
            "text/plain": [
              "<Figure size 432x288 with 1 Axes>"
            ]
          },
          "metadata": {
            "tags": []
          }
        }
      ]
    },
    {
      "cell_type": "code",
      "metadata": {
        "id": "LDKW8HaTaHAU",
        "colab_type": "code",
        "outputId": "7c869028-8226-4b40-c8e5-0f5672d5de99",
        "colab": {
          "base_uri": "https://localhost:8080/",
          "height": 473
        }
      },
      "source": [
        "#level of educcation vs bank account ownership.\n",
        "c=a.groupby (['Level of Educuation','Has a Bank account'])['Has a Bank account'].count()\n",
        "c.plot(kind='bar',  color='purple')\n",
        "#Out of those with bank accounts, those who got to primary school are the \n",
        "#highest number.\n"
      ],
      "execution_count": 0,
      "outputs": [
        {
          "output_type": "execute_result",
          "data": {
            "text/plain": [
              "<matplotlib.axes._subplots.AxesSubplot at 0x7f3bd1db56d8>"
            ]
          },
          "metadata": {
            "tags": []
          },
          "execution_count": 20
        },
        {
          "output_type": "display_data",
          "data": {
            "image/png": "[encoded data removed]",
            "text/plain": [
              "<Figure size 432x288 with 1 Axes>"
            ]
          },
          "metadata": {
            "tags": []
          }
        }
      ]
    },
    {
      "cell_type": "code",
      "metadata": {
        "id": "curWijGGa8zV",
        "colab_type": "code",
        "outputId": "5b2f6d3b-286a-4165-c8d7-e724c7e39ce4",
        "colab": {
          "base_uri": "https://localhost:8080/",
          "height": 437
        }
      },
      "source": [
        "#marital status vs bank account ownership\n",
        "d=a.groupby (['marital_status','Has a Bank account'])['Has a Bank account'].count()\n",
        "d.plot(kind='bar',  color='orange')\n",
        "#those married/living together have highest number of bank accounts"
      ],
      "execution_count": 0,
      "outputs": [
        {
          "output_type": "execute_result",
          "data": {
            "text/plain": [
              "<matplotlib.axes._subplots.AxesSubplot at 0x7f3bd1d2e7f0>"
            ]
          },
          "metadata": {
            "tags": []
          },
          "execution_count": 21
        },
        {
          "output_type": "display_data",
          "data": {
            "image/png": "[encoded data removed]",
            "text/plain": [
              "<Figure size 432x288 with 1 Axes>"
            ]
          },
          "metadata": {
            "tags": []
          }
        }
      ]
    },
    {
      "cell_type": "code",
      "metadata": {
        "id": "sKdDGBGEaKpp",
        "colab_type": "code",
        "outputId": "daa3c114-7ca8-4892-f30c-7529c9362d2b",
        "colab": {
          "base_uri": "https://localhost:8080/",
          "height": 480
        }
      },
      "source": [
        "#type of job vs bank account ownership\n",
        "e=a.groupby (['Type of Job','Has a Bank account'])['Has a Bank account'].count()\n",
        "e.plot(kind='bar',  color='black')\n",
        "#those self employed are more likely to have a bank account"
      ],
      "execution_count": 0,
      "outputs": [
        {
          "output_type": "execute_result",
          "data": {
            "text/plain": [
              "<matplotlib.axes._subplots.AxesSubplot at 0x7f3bd1d9b4e0>"
            ]
          },
          "metadata": {
            "tags": []
          },
          "execution_count": 22
        },
        {
          "output_type": "display_data",
          "data": {
            "image/png": "[encoded data removed]",
            "text/plain": [
              "<Figure size 432x288 with 1 Axes>"
            ]
          },
          "metadata": {
            "tags": []
          }
        }
      ]
    },
    {
      "cell_type": "markdown",
      "metadata": {
        "id": "N_vHlg5tccTZ",
        "colab_type": "text"
      },
      "source": [
        "PCA analysis"
      ]
    },
    {
      "cell_type": "code",
      "metadata": {
        "id": "rnnKlRR6chfX",
        "colab_type": "code",
        "colab": {}
      },
      "source": [
        "#Preprocessing\n",
        "#divide the dataset into a feature set and corresponding labels\n",
        "#X = df2.iloc[:, 6:-5].values\n",
        "#y = df2[['country',\t'year',\t'uniqueid',\t'Has a Bank account',\t'Type of Location',\t'Cell Phone Access','gender_of_respondent'\t,'The relathip with head'\t,'marital_status','Level of Educuation'\t,'Type of Job']].values\n",
        "y=df2['gender_of_respondent']"
      ],
      "execution_count": 0,
      "outputs": []
    },
    {
      "cell_type": "code",
      "metadata": {
        "id": "ZvRXBHywdlqi",
        "colab_type": "code",
        "outputId": "d89b4138-f2db-4960-f25e-85e35ba65946",
        "colab": {
          "base_uri": "https://localhost:8080/",
          "height": 654
        }
      },
      "source": [
        "# Splitting the dataset into the Training set and Test set\n",
        "from sklearn.model_selection import train_test_split\n",
        "\n",
        "X_train, X_test, y_train, y_test = train_test_split(X, y, test_size=0.2, random_state=0)\n",
        "X_train, X_test, y_train, y_test"
      ],
      "execution_count": 0,
      "outputs": [
        {
          "output_type": "execute_result",
          "data": {
            "text/plain": [
              "(array([[ 3., 24.],\n",
              "        [ 1., 72.],\n",
              "        [ 3., 34.],\n",
              "        ...,\n",
              "        [ 2., 45.],\n",
              "        [ 9., 42.],\n",
              "        [ 6., 33.]]), array([[ 5., 23.],\n",
              "        [ 6., 33.],\n",
              "        [ 2., 35.],\n",
              "        ...,\n",
              "        [ 2., 53.],\n",
              "        [ 3., 45.],\n",
              "        [ 2., 24.]]), 20844    Female\n",
              " 15749      Male\n",
              " 12657    Female\n",
              " 16059      Male\n",
              " 20877    Female\n",
              "           ...  \n",
              " 13497    Female\n",
              " 20229      Male\n",
              " 10124      Male\n",
              " 11094      Male\n",
              " 2832       Male\n",
              " Name: gender_of_respondent, Length: 18182, dtype: object, 7805       Male\n",
              " 10039    Female\n",
              " 18863    Female\n",
              " 22048    Female\n",
              " 8443     Female\n",
              "           ...  \n",
              " 9569     Female\n",
              " 12693      Male\n",
              " 7287     Female\n",
              " 5480     Female\n",
              " 20264      Male\n",
              " Name: gender_of_respondent, Length: 4546, dtype: object)"
            ]
          },
          "metadata": {
            "tags": []
          },
          "execution_count": 53
        }
      ]
    },
    {
      "cell_type": "code",
      "metadata": {
        "id": "doqNB0mMeccA",
        "colab_type": "code",
        "colab": {}
      },
      "source": [
        "#Normalization\n",
        "from sklearn.preprocessing import StandardScaler\n",
        "\n",
        "sc = StandardScaler()\n",
        "X_train = sc.fit_transform(X_train)\n",
        "X_test = sc.transform(X_test)"
      ],
      "execution_count": 0,
      "outputs": []
    },
    {
      "cell_type": "code",
      "metadata": {
        "id": "95ek60hKem9u",
        "colab_type": "code",
        "colab": {}
      },
      "source": [
        "# Applying PCA\n",
        "\n",
        "from sklearn.decomposition import PCA\n",
        "\n",
        "pca = PCA()\n",
        "X_train = pca.fit_transform(X_train)\n",
        "X_test = pca.transform(X_test)"
      ],
      "execution_count": 0,
      "outputs": []
    },
    {
      "cell_type": "code",
      "metadata": {
        "id": "nXYoes61hBH-",
        "colab_type": "code",
        "outputId": "4e7b84a7-97eb-4ad2-d124-a5f48c8498b3",
        "colab": {
          "base_uri": "https://localhost:8080/",
          "height": 35
        }
      },
      "source": [
        "#Explained Variance Ratio\n",
        "explained_variance = pca.explained_variance_ratio_\n",
        "explained_variance"
      ],
      "execution_count": 0,
      "outputs": [
        {
          "output_type": "execute_result",
          "data": {
            "text/plain": [
              "array([0.55190095, 0.44809905])"
            ]
          },
          "metadata": {
            "tags": []
          },
          "execution_count": 56
        }
      ]
    },
    {
      "cell_type": "code",
      "metadata": {
        "id": "uggpv4D0rrYw",
        "colab_type": "code",
        "colab": {}
      },
      "source": [
        "#Using 2 Principal Component Analysis\n",
        "from sklearn.decomposition import PCA\n",
        "\n",
        "pca = PCA(n_components=2)\n",
        "X_train = pca.fit_transform(X_train)\n",
        "X_test = pca.transform(X_test)"
      ],
      "execution_count": 0,
      "outputs": []
    },
    {
      "cell_type": "code",
      "metadata": {
        "id": "wiFWwiEU1LYB",
        "colab_type": "code",
        "outputId": "644b3d55-e989-44f7-b0fe-b4a14b7218b1",
        "colab": {
          "base_uri": "https://localhost:8080/",
          "height": 74
        }
      },
      "source": [
        "#Training and Making Predictions\n",
        "#we use random forest classification for making the predictions.\n",
        "# \n",
        "from sklearn.ensemble import RandomForestClassifier\n",
        "\n",
        "classifier = RandomForestClassifier(max_depth=2, random_state=0)\n",
        "classifier.fit(X_train, y_train)\n",
        "\n",
        "# Predicting the Test set results\n",
        "y_pred = classifier.predict(X_test)"
      ],
      "execution_count": 0,
      "outputs": [
        {
          "output_type": "stream",
          "text": [
            "/usr/local/lib/python3.6/dist-packages/sklearn/ensemble/forest.py:245: FutureWarning: The default value of n_estimators will change from 10 in version 0.20 to 100 in 0.22.\n",
            "  \"10 in version 0.20 to 100 in 0.22.\", FutureWarning)\n"
          ],
          "name": "stderr"
        }
      ]
    },
    {
      "cell_type": "code",
      "metadata": {
        "id": "rgzYvHE81cAZ",
        "colab_type": "code",
        "outputId": "a0d0d5fd-6224-4ea2-d510-a0cedf4bd3c7",
        "colab": {
          "base_uri": "https://localhost:8080/",
          "height": 72
        }
      },
      "source": [
        "#Performance Evaluation\n",
        "\n",
        "from sklearn.metrics import confusion_matrix\n",
        "from sklearn.metrics import accuracy_score\n",
        "\n",
        "print(confusion_matrix(y_test, y_pred))\n",
        "print('Accuracy' + str(accuracy_score(y_test, y_pred)))\n"
      ],
      "execution_count": 0,
      "outputs": [
        {
          "output_type": "stream",
          "text": [
            "[[2699   34]\n",
            " [1769   44]]\n",
            "Accuracy0.6033875934887813\n"
          ],
          "name": "stdout"
        }
      ]
    },
    {
      "cell_type": "markdown",
      "metadata": {
        "id": "L3jAKo2g36JT",
        "colab_type": "text"
      },
      "source": [
        "Discriminant analysis\n"
      ]
    },
    {
      "cell_type": "code",
      "metadata": {
        "id": "S9hhcrY-J4i2",
        "colab_type": "code",
        "colab": {}
      },
      "source": [
        "#Preprocessing\n",
        "#divide the dataset into a feature set and corresponding labels\n",
        "A = df2.iloc[:, 6:-5].values\n",
        "#b = df2[['country',\t'year',\t'uniqueid',\t'Has a Bank account',\t'Type of Location',\t'Cell Phone Access','gender_of_respondent'\t,'The relathip with head'\t,'marital_status','Level of Educuation'\t,'Type of Job']].values\n",
        "b=df2['gender_of_respondent']"
      ],
      "execution_count": 0,
      "outputs": []
    },
    {
      "cell_type": "code",
      "metadata": {
        "id": "XBtgvn-qKIYf",
        "colab_type": "code",
        "outputId": "e1a98045-4d42-4a2a-d5de-83c6213181d9",
        "colab": {
          "base_uri": "https://localhost:8080/",
          "height": 654
        }
      },
      "source": [
        "# Splitting the dataset into the Training set and Test set\n",
        "from sklearn.model_selection import train_test_split\n",
        "\n",
        "A_train, A_test, b_train, b_test = train_test_split(A, b, test_size=0.2, random_state=0)\n",
        "A_train, A_test, b_train, b_test"
      ],
      "execution_count": 0,
      "outputs": [
        {
          "output_type": "execute_result",
          "data": {
            "text/plain": [
              "(array([[ 3., 24.],\n",
              "        [ 1., 72.],\n",
              "        [ 3., 34.],\n",
              "        ...,\n",
              "        [ 2., 45.],\n",
              "        [ 9., 42.],\n",
              "        [ 6., 33.]]), array([[ 5., 23.],\n",
              "        [ 6., 33.],\n",
              "        [ 2., 35.],\n",
              "        ...,\n",
              "        [ 2., 53.],\n",
              "        [ 3., 45.],\n",
              "        [ 2., 24.]]), 20844    Female\n",
              " 15749      Male\n",
              " 12657    Female\n",
              " 16059      Male\n",
              " 20877    Female\n",
              "           ...  \n",
              " 13497    Female\n",
              " 20229      Male\n",
              " 10124      Male\n",
              " 11094      Male\n",
              " 2832       Male\n",
              " Name: gender_of_respondent, Length: 18182, dtype: object, 7805       Male\n",
              " 10039    Female\n",
              " 18863    Female\n",
              " 22048    Female\n",
              " 8443     Female\n",
              "           ...  \n",
              " 9569     Female\n",
              " 12693      Male\n",
              " 7287     Female\n",
              " 5480     Female\n",
              " 20264      Male\n",
              " Name: gender_of_respondent, Length: 4546, dtype: object)"
            ]
          },
          "metadata": {
            "tags": []
          },
          "execution_count": 64
        }
      ]
    },
    {
      "cell_type": "code",
      "metadata": {
        "id": "djJHh2dYKi-v",
        "colab_type": "code",
        "colab": {}
      },
      "source": [
        "#Normalization\n",
        "from sklearn.preprocessing import StandardScaler\n",
        "\n",
        "sc = StandardScaler()\n",
        "A_train = sc.fit_transform(A_train)\n",
        "A_test = sc.transform(A_test)"
      ],
      "execution_count": 0,
      "outputs": []
    },
    {
      "cell_type": "code",
      "metadata": {
        "id": "hPcQxZo4KuS_",
        "colab_type": "code",
        "colab": {}
      },
      "source": [
        "#performing LDA\n",
        "from sklearn.discriminant_analysis import LinearDiscriminantAnalysis as LDA\n",
        "lda = LDA(n_components=1)\n",
        "A_train = lda.fit_transform(A_train, b_train)\n",
        "A_test = lda.transform(A_test)"
      ],
      "execution_count": 0,
      "outputs": []
    },
    {
      "cell_type": "code",
      "metadata": {
        "id": "vhfTQu4EK_mz",
        "colab_type": "code",
        "outputId": "30db58fc-9dc5-4dd6-cc00-f1c9ae52fa84",
        "colab": {
          "base_uri": "https://localhost:8080/",
          "height": 74
        }
      },
      "source": [
        "#Training and Making Predictions\n",
        "from sklearn.ensemble import RandomForestClassifier\n",
        "\n",
        "classifier = RandomForestClassifier(max_depth=2, random_state=0)\n",
        "classifier.fit(A_train, b_train)\n",
        "b_pred = classifier.predict(A_test)"
      ],
      "execution_count": 0,
      "outputs": [
        {
          "output_type": "stream",
          "text": [
            "/usr/local/lib/python3.6/dist-packages/sklearn/ensemble/forest.py:245: FutureWarning: The default value of n_estimators will change from 10 in version 0.20 to 100 in 0.22.\n",
            "  \"10 in version 0.20 to 100 in 0.22.\", FutureWarning)\n"
          ],
          "name": "stderr"
        }
      ]
    },
    {
      "cell_type": "code",
      "metadata": {
        "id": "OvUfU_yJMXdz",
        "colab_type": "code",
        "outputId": "6cae9364-7427-4361-b3ec-fbcb3dd7e09b",
        "colab": {
          "base_uri": "https://localhost:8080/",
          "height": 72
        }
      },
      "source": [
        "#Evaluating the Performance\n",
        "from sklearn.metrics import confusion_matrix\n",
        "from sklearn.metrics import accuracy_score\n",
        "\n",
        "print(confusion_matrix(b_test, b_pred))\n",
        "print('Accuracy' + str(accuracy_score(b_test, b_pred)))"
      ],
      "execution_count": 0,
      "outputs": [
        {
          "output_type": "stream",
          "text": [
            "[[2704   29]\n",
            " [1798   15]]\n",
            "Accuracy0.5981082270127585\n"
          ],
          "name": "stdout"
        }
      ]
    },
    {
      "cell_type": "code",
      "metadata": {
        "id": "k2dQnp-yMt6l",
        "colab_type": "code",
        "colab": {}
      },
      "source": [
        ""
      ],
      "execution_count": 0,
      "outputs": []
    }
  ]
}